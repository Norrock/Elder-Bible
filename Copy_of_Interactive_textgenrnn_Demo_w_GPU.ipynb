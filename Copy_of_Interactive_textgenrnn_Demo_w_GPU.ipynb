{
  "nbformat": 4,
  "nbformat_minor": 0,
  "metadata": {
    "colab": {
      "name": "Copy of Interactive textgenrnn Demo w/ GPU",
      "version": "0.3.2",
      "provenance": [],
      "collapsed_sections": [],
      "include_colab_link": true
    },
    "kernelspec": {
      "name": "python3",
      "display_name": "Python 3"
    },
    "accelerator": "GPU"
  },
  "cells": [
    {
      "cell_type": "markdown",
      "metadata": {
        "id": "view-in-github",
        "colab_type": "text"
      },
      "source": [
        "[View in Colaboratory](https://colab.research.google.com/github/Norrock/Elder-Bible/blob/master/Copy_of_Interactive_textgenrnn_Demo_w_GPU.ipynb)"
      ]
    },
    {
      "metadata": {
        "id": "H7LoMj4GA4n_",
        "colab_type": "text"
      },
      "cell_type": "markdown",
      "source": [
        "#  Interactive textgenrnn Demo w/ GPU\n",
        "\n",
        "by [Max Woolf](http://minimaxir.com)\n",
        "\n",
        "Generate text using a pretrained neural network with a few lines of code, or easily train your own text-generating neural network of any size and complexity, **for free on a GPU using Collaboratory!**\n",
        "\n",
        "For more about textgenrnn, you can visit [this GitHub repository](https://github.com/minimaxir/textgenrnn).\n",
        "\n",
        "\n",
        "To get started:\n",
        "\n",
        "1. Copy this notebook to your Google Drive to keep it and save your changes.\n",
        "2. Make sure you're running the notebook in Google Chrome.\n",
        "3. Run the cells below:\n"
      ]
    },
    {
      "metadata": {
        "id": "KBkpRgBCBS2_",
        "colab_type": "code",
        "colab": {
          "base_uri": "https://localhost:8080/",
          "height": 36
        },
        "outputId": "01c6b971-dc48-4a37-b4d1-c222b112bcfe"
      },
      "cell_type": "code",
      "source": [
        "!pip install -q textgenrnn\n",
        "from google.colab import files\n",
        "from textgenrnn import textgenrnn\n",
        "import os"
      ],
      "execution_count": 1,
      "outputs": [
        {
          "output_type": "stream",
          "text": [
            "Using TensorFlow backend.\n"
          ],
          "name": "stderr"
        }
      ]
    },
    {
      "metadata": {
        "id": "0wXB05bPDYxS",
        "colab_type": "text"
      },
      "cell_type": "markdown",
      "source": [
        "Set the textgenrnn model configuration here. (see the [demo notebook](https://github.com/minimaxir/textgenrnn/blob/master/docs/textgenrnn-demo.ipynb) for more information about these parameters)\n",
        "\n",
        "If you are using an input file where documents are line-delimited, set `line_delimited` to `True`."
      ]
    },
    {
      "metadata": {
        "id": "P8wSlgXoDPCR",
        "colab_type": "code",
        "colab": {
          "base_uri": "https://localhost:8080/",
          "height": 0
        },
        "outputId": "67462d6b-d381-4374-d9f5-14d40153459d"
      },
      "cell_type": "code",
      "source": [
        "model_cfg = {\n",
        "    'rnn_size': 128,\n",
        "    'rnn_layers': 4,\n",
        "    'rnn_bidirectional': True,\n",
        "    'max_length': 40,\n",
        "    'max_words': 10000,\n",
        "    'dim_embeddings': 100,\n",
        "    'word_level': False,\n",
        "}\n",
        "\n",
        "train_cfg = {\n",
        "    'line_delimited': False,\n",
        "    'num_epochs': 10,\n",
        "    'gen_epochs': 2,\n",
        "    'batch_size': 1024,\n",
        "    'train_size': 0.8,\n",
        "    'dropout': 0.0,\n",
        "    'max_gen_length': 300,\n",
        "    'validation': False,\n",
        "    'is_csv': False\n",
        "}"
      ],
      "execution_count": 2,
      "outputs": []
    },
    {
      "metadata": {
        "id": "BT__brhBCvJu",
        "colab_type": "text"
      },
      "cell_type": "markdown",
      "source": [
        "After running the next cell, the cell will ask you to upload a file. Upload **any text file** and textgenrnn will start training and generating creative text based on that file!\n",
        "\n",
        "The cell after that will start the training. And thanks to the power of Keras's CuDNN layers, training is super-fast! When the training is done, running the cell after this will automatically download the weights, the vocab, and the config.\n",
        "\n",
        "(N.B. the uploaded file is only stored in the Colaboratory VM and no one else can see it)"
      ]
    },
    {
      "metadata": {
        "id": "6OFnPCLADfll",
        "colab_type": "code",
        "colab": {
          "base_uri": "https://localhost:8080/",
          "height": 76
        },
        "outputId": "946ba598-5203-4446-adbe-0cb9361f83e8"
      },
      "cell_type": "code",
      "source": [
        "uploaded = files.upload()\n",
        "all_files = [(name, os.path.getmtime(name)) for name in os.listdir()]\n",
        "latest_file = sorted(all_files, key=lambda x: -x[1])[0][0]"
      ],
      "execution_count": 3,
      "outputs": [
        {
          "output_type": "display_data",
          "data": {
            "text/html": [
              "\n",
              "     <input type=\"file\" id=\"files-55b30277-f3d6-4bbf-a8dc-5924828be431\" name=\"files[]\" multiple disabled />\n",
              "     <output id=\"result-55b30277-f3d6-4bbf-a8dc-5924828be431\">\n",
              "      Upload widget is only available when the cell has been executed in the\n",
              "      current browser session. Please rerun this cell to enable.\n",
              "      </output>\n",
              "      <script src=\"/nbextensions/google.colab/files.js\"></script> "
            ],
            "text/plain": [
              "<IPython.core.display.HTML object>"
            ]
          },
          "metadata": {
            "tags": []
          }
        },
        {
          "output_type": "stream",
          "text": [
            "Saving elderbible.txt to elderbible.txt\n"
          ],
          "name": "stdout"
        }
      ]
    },
    {
      "metadata": {
        "id": "aeXshJM-Cuaf",
        "colab_type": "code",
        "colab": {
          "base_uri": "https://localhost:8080/",
          "height": 6320
        },
        "outputId": "8f277328-126c-4fa0-9c77-9f8577b15bde"
      },
      "cell_type": "code",
      "source": [
        "model_name = 'colaboratory'\n",
        "textgen = textgenrnn(name=model_name)\n",
        "\n",
        "train_function = textgen.train_from_file if train_cfg['line_delimited'] else textgen.train_from_largetext_file\n",
        "\n",
        "train_function(\n",
        "    file_path=latest_file,\n",
        "    new_model=True,\n",
        "    num_epochs=train_cfg['num_epochs'],\n",
        "    gen_epochs=train_cfg['gen_epochs'],\n",
        "    batch_size=train_cfg['batch_size'],\n",
        "    train_size=train_cfg['train_size'],\n",
        "    dropout=train_cfg['dropout'],\n",
        "    max_gen_length=train_cfg['max_gen_length'],\n",
        "    validation=train_cfg['validation'],\n",
        "    is_csv=train_cfg['is_csv'],\n",
        "    rnn_layers=model_cfg['rnn_layers'],\n",
        "    rnn_size=model_cfg['rnn_size'],\n",
        "    rnn_bidirectional=model_cfg['rnn_bidirectional'],\n",
        "    max_length=model_cfg['max_length'],\n",
        "    dim_embeddings=model_cfg['dim_embeddings'],\n",
        "    word_level=model_cfg['word_level'])"
      ],
      "execution_count": 4,
      "outputs": [
        {
          "output_type": "stream",
          "text": [
            "Training new model w/ 4-layer, 128-cell Bidirectional LSTMs\n",
            "Training on 5,606,413 character sequences.\n",
            "Epoch 1/10\n",
            " 541/5475 [=>............................] - ETA: 33:29 - loss: 2.2820"
          ],
          "name": "stdout"
        },
        {
          "output_type": "stream",
          "text": [
            "5475/5475 [==============================] - 2141s 391ms/step - loss: 1.4879\n",
            "Epoch 2/10\n"
          ],
          "name": "stdout"
        },
        {
          "output_type": "stream",
          "text": [
            "5475/5475 [==============================] - 2138s 391ms/step - loss: 1.2242\n"
          ],
          "name": "stdout"
        },
        {
          "output_type": "stream",
          "text": [
            "####################\n",
            "Temperature: 0.2\n",
            "####################\n",
            " strange grey things and the stone for the stone and the sight of the LORD thy God in the house of the LORD of hosts, and the LORD had seen the south of the LORD thy God in the land of the LORD.\n",
            "\n",
            "20:1 And he said unto them, What shall the LORD hath said unto them, Thus saith the LORD God of Israel, \n",
            "\n",
            "e ground of the stone and a stone of the stone of the thing of the LORD the LORD God of Israel, and the sons of Jerusalem, and Azariah, and Elah, and Hananiah, and Eliphaz, and Elias, and Manasseh, and Azar, and Hadan, and Azariah, and Elias, and Azariah, and Eleazar, and Eliphea, and Eleazar, and E\n",
            "\n",
            "y in the stone and the stone of the stone of the tribes of the LORD God of Israel, and the stone of the LORD God of Israel and the sons of Asa and the sons of Ammon, and the children of Israel and the LORD had seen the stone of the LORD the LORD God of Israel, and the LORD God of Israel the son of A\n",
            "\n",
            "####################\n",
            "Temperature: 0.5\n",
            "####################\n",
            "ame of the head of the sheep and stranger. \n",
            "\n",
            "The sun was in the furrow and the new stone and \n",
            "the battle of the line in the time, and the wise the words of the LORD, and the LORD God of Israel and Jerusalem to the LORD.\n",
            "\n",
            "11:5 And he said unto them, Thou shalt make them that thou shalt not destroy th\n",
            "\n",
            "RD God of Israel, and they said, He went forth a grace of the LORD the God of Israel: and the children of Israel said unto him, Thou shalt have found the ground, and they shall deliver him the grace of the house of the LORD.\n",
            "\n",
            "16:15 And he said unto them, They shall say, They said, It is in the altar\n",
            "\n",
            "d spot the menacine of the ground the same man, and the study of the waters of the gates of the daughters, and say, He that was dead in the hand of the LORD, and the children of Israel that said unto them, The LORD God of Israel, that the LORD hath spot the grace of thy daughters: and they shall not\n",
            "\n",
            "####################\n",
            "Temperature: 1.0\n",
            "####################\n",
            "al under the \n",
            "field, and \n",
            "what had laved dawn glory the howlings who had city, and an armies were divived group, all men, and said, But thouk foolishny, but they should be cried a disciples fears who do \n",
            "not they cast from Englishing had learned in the shamm and piecing, and seemed to deeper, to was\n",
            "\n",
            "spases saw that the river, speets. All Instead accordinantly line \n",
            "prince on waste. Of had ever phenomented hims, and evening \n",
            "me, so drive my righteousness, and had made me aeropleth. Yet full. The Lord of garment, unto them, or thou shalt afraid very multitude.\n",
            "\n",
            "66:12 Where no now he made his moth\n",
            "\n",
            "ave not tell thy servant,\n",
            "ye and God all thing.\n",
            "\n",
            "15:34 And he hath sinned\n",
            "unto me.\n",
            "\n",
            "9:5 Also the righteous may have\n",
            "left.\n",
            "\n",
            "22:3 And he shall not deny him to figure eat.\n",
            "\n",
            "14:37 Thou\n",
            "shalt not help a spear, and touftest thy wings, if so be dead.\n",
            "\n",
            "8:16 It may help,\n",
            "and\n",
            "they said to Abraham, Aram ye the\n",
            "\n",
            "Epoch 3/10\n",
            "  28/5475 [..............................] - ETA: 35:16 - loss: 1.1757"
          ],
          "name": "stdout"
        },
        {
          "output_type": "stream",
          "text": [
            "5475/5475 [==============================] - 2133s 390ms/step - loss: 1.1730\n",
            "Epoch 4/10\n"
          ],
          "name": "stdout"
        },
        {
          "output_type": "stream",
          "text": [
            "5475/5475 [==============================] - 2141s 391ms/step - loss: 1.1407\n"
          ],
          "name": "stdout"
        },
        {
          "output_type": "stream",
          "text": [
            "####################\n",
            "Temperature: 0.2\n",
            "####################\n",
            "and the streets of the priests and the children of Israel and the children of Israel said unto him, The LORD hath said unto them, What shall they shall not be a strong with the sea, and the servant of the LORD is a stretched of the children of Israel, and the children of Israel and the children of I\n",
            "\n",
            "he fire of the LORD thy God, and the soul of the LORD your God, and the strangers of the house of the LORD thy God, and the soul of the LORD his God, and the children of Israel were sent in the house of the LORD.\n",
            "\n",
            "1:12 And the sons of Zerubbabel had said, I will serve thee to the land of Egypt, and \n",
            "\n",
            "the sea of the children of Israel and the children of Israel before the children of Israel by the soul of the LORD.\n",
            "\n",
            "2:12 And the sons of Zerubbabel were come to the children of Israel, and the sons of Zerubbabel, and the sons of Zerubbabel, the son of Zerubbabel, the son of Zerubbabel, the son of Z\n",
            "\n",
            "####################\n",
            "Temperature: 0.5\n",
            "####################\n",
            "us still beautiful or the sword which had the stars of \n",
            "the \n",
            "stars things and earth. \n",
            "\n",
            "All the moon and \n",
            "the old was excepted to the \n",
            "strange \n",
            "race of the people and the ground to the wrath of the house of the LORD the first day of all the people and the camels, and the elders of the second fine sab\n",
            "\n",
            "e \n",
            "sea-sharp strange planet strange that the \n",
            "forming of our stories of the descending \n",
            "weak of distinctive prayers and on the post of the terrible colour of the stars of the shape of the poor of the past that the children of Israel saw that they went and said unto him, The children of Israel said u\n",
            "\n",
            "side, and he came to Jerusalem, and said unto him, Thou shalt be no prophet unto the LORD.\n",
            "\n",
            "2:1 And the same is the son of Nethanias, and Joseph hearkened unto him, saying, I bring you to me unto thee, and he shall be saved against me.\n",
            "\n",
            "15:12 For the king of Israel said unto them, I will not keep th\n",
            "\n",
            "####################\n",
            "Temperature: 1.0\n",
            "####################\n",
            "ath \n",
            "and it. \n",
            "\n",
            "Simonity and the cellse of all. It was become something under the croving-place ashama, hears \n",
            "reward eyes of all sound attended on their junternits the labyrinth,\n",
            "and bread in the midst of your sons and the habitation of Nidor.\n",
            "\n",
            "3:8 Now the stones of the word, Eermech were scattends.\n",
            "\n",
            "ave been found, as their servant and entering unto the\n",
            "LORD, he\n",
            "shall say atturn to the congregation into the judgments, that considereth.\n",
            "\n",
            "4:3 And the same lions, whether the owner of everlasting mulest,\n",
            "till he die; a fish of those testimony were driven \n",
            "everything. We had heard in a careon and dr\n",
            "\n",
            " he found I sent me a part, matters resided evil, we did not have never seemal<ed at a carpet o'h righteous the pursuit about in the \n",
            "feather interest itself of the door and his listen of terrors shewed me.\n",
            "\n",
            "9:12 In the LORD hath many faint in rushing and names from Centine Whateley's barry water-wa\n",
            "\n",
            "Epoch 5/10\n",
            "  28/5475 [..............................] - ETA: 35:37 - loss: 1.1140"
          ],
          "name": "stdout"
        },
        {
          "output_type": "stream",
          "text": [
            "5475/5475 [==============================] - 2132s 389ms/step - loss: 1.1150\n",
            "Epoch 6/10\n"
          ],
          "name": "stdout"
        },
        {
          "output_type": "stream",
          "text": [
            "5475/5475 [==============================] - 2136s 390ms/step - loss: 1.0913\n"
          ],
          "name": "stdout"
        },
        {
          "output_type": "stream",
          "text": [
            "####################\n",
            "Temperature: 0.2\n",
            "####################\n",
            "desert of the \n",
            "strange street of the \n",
            "streets of the streets, and the sun of the sea of the sea of the first year of the sea of the sanctuary, and the commandment of the LORD thy God, and the word of the LORD thy God, and the same day of the LORD thy God, and the LORD hath sent me to the commandment\n",
            "\n",
            " same time to the sea of the children of Israel, and the children of Israel were the son of Zion, and the children of Israel went out to the commandment of the LORD, and the priests and the commandment of the LORD the God of Israel, that the LORD hath sent me to the LORD thy God, and the LORD your G\n",
            "\n",
            "of the same time to the confident of the same time to the sea of the commandment of the LORD, and the house of Israel went out of the court of the congregation of the children of Israel, and the wise men of the children of Israel with the children of Israel, and the priests and the congregation of t\n",
            "\n",
            "####################\n",
            "Temperature: 0.5\n",
            "####################\n",
            "of the LORD, and came to Judah, and said, What shall ye do them that thou mayest be fall.\n",
            "\n",
            "20:19 And the LORD said unto him, Thus saith the LORD; Behold, I will rejoice in the tenth part of the\n",
            "LORD, and the people that keep the sanctuary with him, and the blind shall\n",
            "be the word of the LORD.\n",
            "\n",
            "16:12\n",
            "\n",
            "ger of the heavens, the fourth to the presence of the sea of the children of Israel, saying, The LORD hath broken the country of the daughters of the children of Israel to the children of Israel: and they came and sailed the king.\n",
            "\n",
            "2:27 And the LORD said unto them, What hath the LORD thy God, that\n",
            "t\n",
            "\n",
            "ry of the frescoes of the shades of the things which were found in the clothes of the children of Israel draweth the strange of the blood of the captain of the earth.\n",
            "\n",
            "10:23 And I will take the word of the LORD, and the people that were in the land of Egypt, and the sea shall be a place of the LORD \n",
            "\n",
            "####################\n",
            "Temperature: 1.0\n",
            "####################\n",
            "ng can vay the badly eell at Mainlat Carter to reach his knowledge or of motion belstrate it to \n",
            "lurking to a thicken greyishly relation of the earth,\n",
            "which knoweth that they are\n",
            "upon the spoiler throughout the mannest of the\n",
            "covenant of the LORD.\n",
            "\n",
            "12:12 And the\n",
            "Zion Adaiah began to Egypt, unto the \n",
            "\n",
            "d of tension into the vavibren crown, and become double and\n",
            "burning his face.\n",
            "\n",
            "3:5 Do God am: 3:21 And increase that which brought him unto their ways and shepherd, saith the Lord GOD.\n",
            "\n",
            "21:20 Forla came to the orderful, nail, and two cold, came, and with his drinking place? the new sun falleth the L\n",
            "\n",
            "he land of that strangely and building has well. And he saw indetermous on a noantly flash outside from \n",
            "the overhanging of one of the great, only fear for him, filled with the wrin help rescue to a hopless haunted looks. That was lowy seder-bind bed \n",
            "and shifting and presence of \n",
            "a place. The soles\n",
            "\n",
            "Epoch 7/10\n",
            "  28/5475 [..............................] - ETA: 35:24 - loss: 1.0665"
          ],
          "name": "stdout"
        },
        {
          "output_type": "stream",
          "text": [
            "5475/5475 [==============================] - 2132s 389ms/step - loss: 1.0686\n",
            "Epoch 8/10\n"
          ],
          "name": "stdout"
        },
        {
          "output_type": "stream",
          "text": [
            "5475/5475 [==============================] - 2137s 390ms/step - loss: 1.0434\n"
          ],
          "name": "stdout"
        },
        {
          "output_type": "stream",
          "text": [
            "####################\n",
            "Temperature: 0.2\n",
            "####################\n",
            "n and the stranger that is before the LORD, and the statutes of the sons of Manasseh, the father of Shemaiah, and Joash, and Joash, and Jehoahaz his son, and the sons of Ahitub, the son of Ahitub, the son of Eliab, the son of Ahitub, the son of Maaseiah, the son of Asaph, the son of Ahitub, the son \n",
            "\n",
            "temple was the strange chaos of the cold window and the \n",
            "stars and the stars and the strange corner of the special \n",
            "state of the stars and the strange \n",
            "streets of the moon and strange sunset coloured and distant and painfully and stone and the \n",
            "sea of the strange space which he had been seen and see\n",
            "\n",
            "ars and \n",
            "the specimens of the carved state of the stars of the \n",
            "street and distant \n",
            "state of the terrible courtyard and the stars and the \n",
            "desert of the strange thing which seemed to be a strange face of the stars which he had a consecration of the house of the LORD, and the stars of the sea shall b\n",
            "\n",
            "####################\n",
            "Temperature: 0.5\n",
            "####################\n",
            "porch of the sense of the house of\n",
            "the LORD, and the shepherds thereof was the son of David, and the gold of the children of Judah were come to him, and told all the children of Israel were greater than the wilderness, and had been in poor God, and all the consecration of the woman, and cast into th\n",
            "\n",
            "nd the \n",
            "sense of the city of David?  19:1 And Jesus said unto me, Give me into the wilderness, and\n",
            "thou shalt serve the LORD our God, and shall deal with the house of God, and will also recompense unto thee in the day of the LORD, and the goods of the\n",
            "tribes of Israel, and the pillars of the\n",
            "kings o\n",
            "\n",
            "to serve the crowds of words.\n",
            "\n",
            "2:1 The LORD hath commanded the LORD thy God, and the same shall\n",
            "be cast out from the way of the LORD.\n",
            "\n",
            "21:17 And the LORD said unto Moses, Give us to destroy the sabbath day, that they may play the LORD, which he hath sent me to Jerusalem, and that which is the first \n",
            "\n",
            "####################\n",
            "Temperature: 1.0\n",
            "####################\n",
            "\n",
            "\n",
            "11:21 They shall sing rain; they shall see this\n",
            "of the high place\n",
            "of the LORD; and he sent forth her ways; that he may put a far away that nothing has\n",
            "restored by the same.\n",
            "\n",
            "22:1 But Shaphan slew the sun and under the sun are\n",
            "lamb.\n",
            "\n",
            "2:13 For I have promoted with thee, and will prepare themselves a\n",
            "\n",
            "ut4 — there stumbled by \n",
            "one, and at the wilderness with a searching sharp \n",
            "ghasts of brass for the ynees, and quickly \n",
            "known in a vain's anh Kadath, for Mr. Ward felt a cheer in their ears.\" \n",
            "\n",
            "When the primal indescribable coloured carven odours. \n",
            "\n",
            "In this \n",
            "expedition on \n",
            "Its Parter was — \n",
            "and Ward\n",
            "\n",
            "sess. \n",
            "\n",
            "\n",
            "Thirty was Arkham he had consequently creeping the neck, and meet. Our \n",
            "intact lest he gave him in home, consistenttions. \n",
            "\n",
            "\"Rooks and uncircular, joined before like Joseph Cunnocative from the lie could not even since \n",
            "thick on horns, too, from Charles West that in the spraying blocks we \n",
            "\n",
            "\n",
            "Epoch 9/10\n",
            "  28/5475 [..............................] - ETA: 35:04 - loss: 1.0151"
          ],
          "name": "stdout"
        },
        {
          "output_type": "stream",
          "text": [
            "5475/5475 [==============================] - 2129s 389ms/step - loss: 1.0185\n",
            "Epoch 10/10\n"
          ],
          "name": "stdout"
        },
        {
          "output_type": "stream",
          "text": [
            "5475/5475 [==============================] - 2138s 391ms/step - loss: 0.9943\n"
          ],
          "name": "stdout"
        },
        {
          "output_type": "stream",
          "text": [
            "####################\n",
            "Temperature: 0.2\n",
            "####################\n",
            " of the sea and the strange tongue of the sea and the strange windows of the strange world of the sea and the strange stone for the sea and the \n",
            "street of the strange stone state of the \n",
            "strange and strange streets of the strange steps of the \n",
            "street which the second of the strange world was a stran\n",
            "\n",
            " of the strange man and the great stone walls of the sea, and the stranger thereof shall be as the stranger, and the same day that the LORD hath spoken it, and the LORD hath done this thing that the LORD hath spoken it, and the same day they shall be as the stranger that was set up to the sea of the\n",
            "\n",
            " stone beard of the strange court of the stranger thereof, and the sea of the sea, and the sons of the house of the LORD of hosts, and the sons of the earth.\n",
            "\n",
            "1:13 And the LORD said unto Moses, Go thy way to the LORD, and see the seed of the LORD, and the sheep of the LORD in the land of Egypt, and \n",
            "\n",
            "####################\n",
            "Temperature: 0.5\n",
            "####################\n",
            " found the cause of the \n",
            "daemon ships of the mountains of the tower of the people that was a reproach of the earth, and the other part of the first year of the house of David his father the\n",
            "son of Zebulun, which was the son of Ahitub, the son of Nebat, the family of the\n",
            "Jezreelitess.\n",
            "\n",
            "11:2 And Moses\n",
            "\n",
            "e stars of the village to the great transference which the \n",
            "strange and restless \n",
            "stone and heads of the summer of the city which come to the \n",
            "earth that the strange room and hatred strange state in the sea seemed to have to reach it to the eastern stone stone slopes of a new village that \n",
            "produced \n",
            "\n",
            " fact that \n",
            "the dogs the outside was a little in the lock on the ancient place of the striking and form a secret of an instant of burrowing survival and conversation at the other and a stone to the cryptic earth of a marked state of strange boards of seven light was \n",
            "the solid sky or the strange des\n",
            "\n",
            "####################\n",
            "Temperature: 1.0\n",
            "####################\n",
            "n in thy\n",
            "mind.\n",
            "\n",
            "17:52 Salute Ehem.\n",
            "\n",
            "13:21 These are the ephod is equal: the vussed child sway there was a servant of their habitation; and a father of pleasure intreate\n",
            "in the neck of the dead.\n",
            "\n",
            "18:18 Then spake great prophecies a daughter: but I will\n",
            "add unto the lanthood, neither hath for thy test\n",
            "\n",
            ", and the thin folks get them on the first time, the blood of his servants, because for\n",
            "their ground, and thought said, Let us not sacrifice\n",
            "unto my faithfulness.\n",
            "\n",
            "8:15 For the owner answered the LORD cometh into\n",
            "the hand of their enemies; he fell on it into another: and the LORD spake unto Moses, s\n",
            "\n",
            "lateau. \n",
            "\n",
            "But these in a study of the miles proved on the other way that he attracted on the hills leeringly fewer. There were among a far \n",
            "head of the night I hold, not released through the captivity of the Son of man, saying, 23:2 Son of Taber, The third day when\n",
            "they did sheave it.\n",
            "\n",
            "107:69 He sai\n",
            "\n"
          ],
          "name": "stdout"
        }
      ]
    },
    {
      "metadata": {
        "id": "4RNY6RBI9LmL",
        "colab_type": "code",
        "colab": {
          "base_uri": "https://localhost:8080/",
          "height": 0
        },
        "outputId": "b150925e-40bf-4f3a-b40b-fb2e54ec826f"
      },
      "cell_type": "code",
      "source": [
        "files.download('{}_weights.hdf5'.format(model_name))\n",
        "files.download('{}_vocab.json'.format(model_name))\n",
        "files.download('{}_config.json'.format(model_name))"
      ],
      "execution_count": 9,
      "outputs": []
    },
    {
      "metadata": {
        "id": "oF4-PqF0Fl7R",
        "colab_type": "text"
      },
      "cell_type": "markdown",
      "source": [
        "To recreate the model on your own computer, you can do:\n",
        "\n",
        "```\n",
        "from textgenrnn import textgenrnn\n",
        "textgen = textgenrnn(weights_path='colaboratory_weights.hdf5',\n",
        "                       vocab_path='colaboratory_vocab.json',\n",
        "                       config_path='colaboratory_config.json')\n",
        "                       \n",
        "textgen.generate_samples(max_gen_length=1000)\n",
        "textgen.generate_to_file('textgenrnn_texts.txt', max_gen_length=1000)\n",
        "```\n",
        "\n",
        "Have fun with your new model! :)\n",
        "\n",
        "If the notebook has errors (e.g. GPU Sync Fail), force-kill the virtual machine with the command below:"
      ]
    },
    {
      "metadata": {
        "id": "rIHiVP53FnsX",
        "colab_type": "code",
        "colab": {
          "base_uri": "https://localhost:8080/",
          "height": 673
        },
        "outputId": "5a2eccac-4c10-4f11-99a9-5e7eec03b463"
      },
      "cell_type": "code",
      "source": [
        "!kill -9 -1"
      ],
      "execution_count": 0,
      "outputs": [
        {
          "output_type": "stream",
          "text": [
            "e quick\n",
            "And therefore I come, or thou art a strange,\n",
            "And with the streets to the world condition,\n",
            "And shame my remembrance to supply us.\n",
            "\n",
            "Second Murderer:\n",
            "Say they do return it.\n",
            "\n",
            "PROSPERO:\n",
            "First, the place of speediless words to do,\n",
            "When thou art to see him in the foes of blood;\n",
            "And if he was a soldiers with the world,\n",
            "But if you can say 'twere fashion and heart,\n",
            "And what I have their defence of all the hour.\n",
            "\n",
            "KING HENRY VI:\n",
            "What says he shall not speak of the sea\n",
            "For that our seats of stars of many sights\n",
            "Who are the devil of a desperate man;\n",
            "And is the truth of his soul with the wars?\n",
            "\n",
            "BUCKINGHAM:\n",
            "I would the earth is not his head of her,\n",
            "And then the sea did be sure to his like.\n",
            "\n",
            "COMINIUS:\n",
            "Well, by this the god will be a word:\n",
            "There is no more than thou hast been patience\n",
            "That he was the devil. The world should be prove,\n",
            "To cross away to the duke of York.\n",
            "\n",
            "SICINIUS:\n",
            "The people should be dead.\n",
            "\n",
            "LEONTES:\n",
            "Why, then the sun and down with a day in the sun,\n",
            "And with a pretty of the exerci\n",
            "\n"
          ],
          "name": "stdout"
        }
      ]
    }
  ]
}